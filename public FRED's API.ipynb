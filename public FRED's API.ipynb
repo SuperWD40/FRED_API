{
 "cells": [
  {
   "cell_type": "code",
   "execution_count": 5,
   "id": "da10eb84",
   "metadata": {},
   "outputs": [],
   "source": [
    "import pandas as pd\n",
    "import requests\n",
    "import datetime as dt\n",
    "from datetime import datetime\n",
    "from datetime import timedelta\n",
    "from dateutil.relativedelta import relativedelta"
   ]
  },
  {
   "cell_type": "code",
   "execution_count": 6,
   "id": "403ec5f7",
   "metadata": {},
   "outputs": [],
   "source": [
    "index_list = {'CPI':'CORESTICKM159SFRBATL',\n",
    "             'Unemployment':'UNRATE',\n",
    "             'FED effective rate':'DFF',\n",
    "             'GPI energy': 'PNRGINDEXM',\n",
    "             'GPI food': 'PFOODINDEXM',\n",
    "             'Consumer sentiment':'UMCSENT',\n",
    "             'BCI':'BSCICP03USM665S',\n",
    "             'EUR-USD':'EXUSEU',\n",
    "             'Deposits, Comm.Banks':'H8B1058NCBCMG',\n",
    "             'Business loans, Comm.Banks':'H8B1023NCBCMG',\n",
    "             'Supply of New Houses':'MSACSR',\n",
    "             'Capacity utilization index':'TCU',\n",
    "             'Monetary base':'BOGMBASE',\n",
    "             'PPI All commodities':'PPIACO'}"
   ]
  },
  {
   "cell_type": "code",
   "execution_count": 7,
   "id": "63bae299",
   "metadata": {},
   "outputs": [],
   "source": [
    "key = 'Your key here'\n",
    "url_list = []\n",
    "for index in list(index_list.values()):\n",
    "    url = 'https://api.stlouisfed.org/fred/series/observations?series_id=' + index + '&api_key=' + key + '&file_type=json'\n",
    "    url_list.append(url)"
   ]
  },
  {
   "cell_type": "code",
   "execution_count": 8,
   "id": "1afffa34",
   "metadata": {},
   "outputs": [
    {
     "name": "stdout",
     "output_type": "stream",
     "text": [
      "response: 200\n",
      "content-type: application/json; charset=UTF-8\n",
      "response: 200\n",
      "content-type: application/json; charset=UTF-8\n",
      "response: 200\n",
      "content-type: application/json; charset=UTF-8\n",
      "response: 200\n",
      "content-type: application/json; charset=UTF-8\n",
      "response: 200\n",
      "content-type: application/json; charset=UTF-8\n",
      "response: 200\n",
      "content-type: application/json; charset=UTF-8\n",
      "response: 200\n",
      "content-type: application/json; charset=UTF-8\n",
      "response: 200\n",
      "content-type: application/json; charset=UTF-8\n",
      "response: 200\n",
      "content-type: application/json; charset=UTF-8\n",
      "response: 200\n",
      "content-type: application/json; charset=UTF-8\n",
      "response: 200\n",
      "content-type: application/json; charset=UTF-8\n",
      "response: 200\n",
      "content-type: application/json; charset=UTF-8\n",
      "response: 200\n",
      "content-type: application/json; charset=UTF-8\n",
      "response: 200\n",
      "content-type: application/json; charset=UTF-8\n"
     ]
    }
   ],
   "source": [
    "response_list = []\n",
    "for url in url_list:\n",
    "    response = requests.get(url)\n",
    "    response_list.append(response)\n",
    "    print('response:', response.status_code)\n",
    "    print('content-type:', response.headers['content-type'])"
   ]
  },
  {
   "cell_type": "code",
   "execution_count": null,
   "id": "3874f397",
   "metadata": {},
   "outputs": [],
   "source": [
    "df = pd.DataFrame()\n",
    "for i in range(len(response_list)):\n",
    "    response = response_list[i]\n",
    "    index = list(index_list.keys())[i]\n",
    "    Date = []\n",
    "    Value = []\n",
    "    df_json = pd.DataFrame(response.json())\n",
    "    for n in range(len(df_json)):\n",
    "        dic = df_json['observations'][n]\n",
    "        if dic['value'] == '.':\n",
    "            pass\n",
    "        else:\n",
    "            date = dic['date']\n",
    "            value = dic['value']\n",
    "            Date.append(date)\n",
    "            Value.append(value)\n",
    "\n",
    "    date_list = []\n",
    "    for n in Date:\n",
    "        date = datetime.strptime(n, '%Y-%m-%d').date()\n",
    "        date_list.append(date)\n",
    "    name = list(index_list.keys())[i]\n",
    "        \n",
    "    Dict = {'Date':date_list,\n",
    "            name:Value}\n",
    "    Index = pd.DataFrame(Dict).set_index('Date')\n",
    "    df[name] = Index[name]\n",
    "    \n",
    "    for n in df:    \n",
    "        List = [float(x) for x in df[n]]\n",
    "        df[n] = List\n",
    "df.index = pd.to_datetime(df.index)"
   ]
  },
  {
   "cell_type": "code",
   "execution_count": null,
   "id": "816855ec",
   "metadata": {},
   "outputs": [],
   "source": [
    "df.head()"
   ]
  }
 ],
 "metadata": {
  "kernelspec": {
   "display_name": "Python 3 (ipykernel)",
   "language": "python",
   "name": "python3"
  },
  "language_info": {
   "codemirror_mode": {
    "name": "ipython",
    "version": 3
   },
   "file_extension": ".py",
   "mimetype": "text/x-python",
   "name": "python",
   "nbconvert_exporter": "python",
   "pygments_lexer": "ipython3",
   "version": "3.9.7"
  }
 },
 "nbformat": 4,
 "nbformat_minor": 5
}
